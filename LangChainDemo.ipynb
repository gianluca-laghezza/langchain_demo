{
  "nbformat": 4,
  "nbformat_minor": 0,
  "metadata": {
    "colab": {
      "provenance": [],
      "authorship_tag": "ABX9TyMdFyXRC4MphPks2LeLjAll"
    },
    "kernelspec": {
      "name": "python3",
      "display_name": "Python 3"
    },
    "language_info": {
      "name": "python"
    }
  },
  "cells": [
    {
      "cell_type": "code",
      "execution_count": null,
      "metadata": {
        "id": "WIZQIvXhwff6"
      },
      "outputs": [],
      "source": [
        "#install required packages\n",
        "%pip install --upgrade --quiet langchain langchain-community langchain-openai wikipedia"
      ]
    },
    {
      "cell_type": "code",
      "source": [
        "#openAI api key input\n",
        "import getpass\n",
        "import os\n",
        "\n",
        "os.environ[\"OPENAI_API_KEY\"] = getpass.getpass()"
      ],
      "metadata": {
        "colab": {
          "base_uri": "https://localhost:8080/"
        },
        "id": "az-ukQ9EwoKH",
        "outputId": "1d9c284f-9cd1-45ff-c549-d4fc64e72608"
      },
      "execution_count": null,
      "outputs": [
        {
          "name": "stdout",
          "output_type": "stream",
          "text": [
            "··········\n"
          ]
        }
      ]
    },
    {
      "cell_type": "code",
      "source": [
        "#import libraries\n",
        "\n",
        "from langchain.text_splitter import RecursiveCharacterTextSplitter\n",
        "from langchain_community.document_loaders import WikipediaLoader\n",
        "from langchain_core.output_parsers import StrOutputParser\n",
        "from langchain_core.prompts import PromptTemplate\n",
        "from langchain_openai import ChatOpenAI\n"
      ],
      "metadata": {
        "id": "NezPkR3XywKu"
      },
      "execution_count": null,
      "outputs": []
    },
    {
      "cell_type": "code",
      "source": [
        "#loads the wikipedia page related to the subject chosen. Splits the page into sections\n",
        "#that will be used in the question building by the AI. We use GPT4\n",
        "subject = \"baseball\"\n",
        "doc = WikipediaLoader(query=subject, load_max_docs=1, doc_content_chars_max=-1).load()\n",
        "text_splitter = RecursiveCharacterTextSplitter(chunk_size=1000, chunk_overlap=200)\n",
        "splits = text_splitter.split_documents(doc)\n",
        "llm = ChatOpenAI(model_name=\"gpt-4\", temperature=0)"
      ],
      "metadata": {
        "id": "8AhXQbY6y0zN"
      },
      "execution_count": null,
      "outputs": []
    },
    {
      "cell_type": "code",
      "source": [
        "#An example of one section produced from the wikipedia page\n",
        "splits[0].page_content"
      ],
      "metadata": {
        "colab": {
          "base_uri": "https://localhost:8080/",
          "height": 174
        },
        "id": "2NDy9eDU6lm2",
        "outputId": "f1081bec-d9f6-408e-fb23-051701b56972"
      },
      "execution_count": null,
      "outputs": [
        {
          "output_type": "execute_result",
          "data": {
            "text/plain": [
              "'Baseball is a bat-and-ball sport played between two teams of nine players each, taking turns batting and fielding. The game occurs over the course of several plays, with each play generally beginning when a player on the fielding team, called the pitcher, throws a ball that a player on the batting team, called the batter, tries to hit with a bat. The objective of the offensive team (batting team) is to hit the ball into the field of play, away from the other team\\'s players, allowing its players to run the bases, having them advance counter-clockwise around four bases to score what are called \"runs\". The objective of the defensive team (referred to as the fielding team) is to prevent batters from becoming runners, and to prevent runners\\' advance around the bases. A run is scored when a runner legally advances around the bases in order and touches home plate (the place where the player started as a batter).'"
            ],
            "application/vnd.google.colaboratory.intrinsic+json": {
              "type": "string"
            }
          },
          "metadata": {},
          "execution_count": 5
        }
      ]
    },
    {
      "cell_type": "code",
      "source": [
        "#Builds the prompt to create the question to administer to the student.\n",
        "#The standard used for evaluation is specified in the core_std variable.\n",
        "#Injects a section from the wikipedia page loaded before to use as context.\n",
        "#Note that we fix the section to use in this notebook (splits[0].page_content)\n",
        "#in order to have reproducible results, in production we can select one section at random.\n",
        "\n",
        "core_std = \"\"\"draw evidence from the context to support analysis,\n",
        "              reflection, and research. \"\"\"\n",
        "\n",
        "template = \"\"\"Use the following piece of context to create a free response question at the end\n",
        "regarding the topics in the context.\n",
        "The question is aimed at a student and has to be formulated to understand the student's ability\n",
        "to \"\"\" + core_std + \"\"\"\n",
        "Context:\n",
        "\n",
        "{context}\n",
        "\n",
        "Create an introduction about the context, repeat the context between quotes,\n",
        " and at the end of your message ask the question.\n",
        "\"\"\"\n",
        "custom_rag_prompt = PromptTemplate.from_template(template)\n",
        "\n",
        "rag_chain = (custom_rag_prompt\n",
        "             | llm\n",
        "             | StrOutputParser()\n",
        "            )\n",
        "\n",
        "ai_question = rag_chain.invoke({\"context\": splits[0].page_content})\n",
        "print(ai_question)"
      ],
      "metadata": {
        "colab": {
          "base_uri": "https://localhost:8080/"
        },
        "id": "e1fNAd_8OyPT",
        "outputId": "805e9dbb-b60e-46ff-aa07-9aef2472c05c"
      },
      "execution_count": null,
      "outputs": [
        {
          "output_type": "stream",
          "name": "stdout",
          "text": [
            "Introduction:\n",
            "\n",
            "We are going to delve into the world of baseball, a popular bat-and-ball sport that is played between two teams. This sport is not just about hitting the ball and scoring runs, but it also involves strategic planning and teamwork. The game is played in several plays and involves two main roles - the pitcher from the fielding team and the batter from the batting team. The objective of the game for both teams is clearly defined. \n",
            "\n",
            "Context:\n",
            "\n",
            "\"Baseball is a bat-and-ball sport played between two teams of nine players each, taking turns batting and fielding. The game occurs over the course of several plays, with each play generally beginning when a player on the fielding team, called the pitcher, throws a ball that a player on the batting team, called the batter, tries to hit with a bat. The objective of the offensive team (batting team) is to hit the ball into the field of play, away from the other team's players, allowing its players to run the bases, having them advance counter-clockwise around four bases to score what are called \"runs\". The objective of the defensive team (referred to as the fielding team) is to prevent batters from becoming runners, and to prevent runners' advance around the bases. A run is scored when a runner legally advances around the bases in order and touches home plate (the place where the player started as a batter).\"\n",
            "\n",
            "Question:\n",
            "\n",
            "Based on the context provided, can you explain the roles and objectives of the batting and fielding teams in a baseball game? How does a player score a run, and what strategies might the fielding team use to prevent this?\n"
          ]
        }
      ]
    },
    {
      "cell_type": "code",
      "source": [
        "#Here we build the grading prompt. We give the rubric to the AI and use chain of thought\n",
        "#prompting to force the AI to give a feedback to explain its grading logic.\n",
        "#We also ask the AI to produce a follow-up question.\n",
        "#Note that we provide a very basic student's answer to the AI, and it correctly grades it as progressing.\n",
        "\n",
        "grading_prompt = \"\"\"Grade the answer below based on the question below and the context below. Use these grades: needs improvement,\n",
        "progressing, meets,exceeds. The rubric for the grades is below. Describe your grading step by step.\n",
        "End your message with a follow-up question on the context that covers different aspects of the context\n",
        "not asked in the question below.\n",
        "\n",
        "Rubric:\n",
        "\n",
        "Needs improvement: Unable to apply evidence gathered from the context to support written analysis, reflection, and research.\n",
        "Progressing: Requires prompting and support to apply evidence gathered from\n",
        "the context to support written analysis, reflection, and\n",
        "research.\n",
        "Meets: Independently able to apply evidence gathered from the context to support written analysis, reflection,\n",
        "and research\n",
        "Exceeds: Independently able to apply evidence gathered from the context and other sources to support written analysis, reflection,\n",
        "and research\n",
        "\n",
        "Question:\n",
        "\n",
        "{question}\n",
        "\n",
        "Answer:\n",
        "\n",
        "{answer}\n",
        "\n",
        "Context:\n",
        "\n",
        "{context}\n",
        "\"\"\"\n",
        "\n",
        "student_answer = \"\"\" The objective of the batting team is to hit the ball into\n",
        " the field of play. The objective of the defensive team\n",
        " is to prevent batters from becoming runners. \"\"\"\n",
        "\n",
        "grade_prompt = PromptTemplate.from_template(grading_prompt)\n",
        "\n",
        "grade_chain = (grade_prompt\n",
        "             | llm\n",
        "             | StrOutputParser()\n",
        "            )\n",
        "\n",
        "ai_grading = grade_chain.invoke({\"context\" : splits[0].page_content,\n",
        "                                \"question\": ai_question,\n",
        "                                \"answer\"  : student_answer})\n",
        "print(ai_grading)"
      ],
      "metadata": {
        "colab": {
          "base_uri": "https://localhost:8080/"
        },
        "id": "PhZ1WoamSzfy",
        "outputId": "86ddcdca-7b49-4958-b578-0055bcc3c334"
      },
      "execution_count": null,
      "outputs": [
        {
          "output_type": "stream",
          "name": "stdout",
          "text": [
            "Grade: Progressing\n",
            "\n",
            "The answer does correctly identify the basic objectives of the batting and fielding teams in a baseball game, which shows that the respondent has understood and applied some of the information from the context. However, the answer does not fully meet the requirements of the question. The respondent has not explained how a player scores a run, nor have they suggested any strategies that the fielding team might use to prevent this. This shows that the respondent has not fully applied all the evidence gathered from the context to support their written analysis. \n",
            "\n",
            "Follow-up question: Can you explain the role of the pitcher in the fielding team and how the batting team might strategize to hit the ball effectively?\n"
          ]
        }
      ]
    },
    {
      "cell_type": "markdown",
      "source": [
        "# Test/ quality control"
      ],
      "metadata": {
        "id": "QhARQqhZtnst"
      }
    },
    {
      "cell_type": "code",
      "source": [
        "#For pratical reasons (openAI limits on personal use of the API)\n",
        "#we use a shortened version of the wikipedia page we want to test.\n",
        "#In production we can use the whole wikipedia page.\n",
        "short_page = doc[0].page_content.split('== History ==')[0]\n"
      ],
      "metadata": {
        "id": "p0rf7Elxtrzu"
      },
      "execution_count": null,
      "outputs": []
    },
    {
      "cell_type": "code",
      "source": [
        "#The test checks that the AI creates an open ended question that asks the student\n",
        "#to summarize the context given to them. Here we build the prompt fed to the AI where\n",
        "#we change the core standard to use to evaluate the student - in the summary_std variable.\n",
        "\n",
        "summary_std = \"\"\"summarize a given text. \"\"\"\n",
        "\n",
        "summary_template = \"\"\"Use the following piece of context to create a question at the end\n",
        "regarding the topics in the context. The question asks the student to summarize the context.\n",
        "The question is aimed at a student and has to be formulated to understand the student's ability\n",
        "to \"\"\" + summary_std + \"\"\"\n",
        "Context:\n",
        "\n",
        "{context}.\n",
        "\n",
        "Question:\n",
        "\"\"\"\n",
        "summary_prompt = PromptTemplate.from_template(summary_template)\n",
        "\n",
        "summary_chain = (summary_prompt\n",
        "             | llm\n",
        "             | StrOutputParser()\n",
        "            )\n",
        "\n",
        "ai_summary_question = summary_chain.invoke({\"context\": short_page})"
      ],
      "metadata": {
        "id": "iaNLiHHeuIEy"
      },
      "execution_count": null,
      "outputs": []
    },
    {
      "cell_type": "code",
      "source": [
        "#Here we test that the AI has produced a question that asks to summarize the context.\n",
        "# the test checks that the AI's question contains the words summary and/or summarize.\n",
        "test_result = any(el in ai_summary_question for el in ('summary', 'summarize'))\n",
        "print('Did AI generate a correct question? ', test_result)\n",
        "print('Question generated: \\n', ai_summary_question)"
      ],
      "metadata": {
        "colab": {
          "base_uri": "https://localhost:8080/"
        },
        "id": "-v6UCpEIwKiW",
        "outputId": "94c695c4-d548-473e-a635-3da571106608"
      },
      "execution_count": null,
      "outputs": [
        {
          "output_type": "stream",
          "name": "stdout",
          "text": [
            "Did AI generate a correct question?  True\n",
            "Question generated: \n",
            " Can you summarize the context provided, detailing the rules, gameplay, personnel, strategy, and tactics of baseball?\n"
          ]
        }
      ]
    },
    {
      "cell_type": "code",
      "source": [
        "#Here we test the AI's capability to grade the student's answer. We use wikipedia summary\n",
        "#for each page to simulate the student's answer, and we expect that the AI grades at a level\n",
        "#of meets or exceeds.\n",
        "\n",
        "qc_template = \"\"\"Grade the summary below based on the question below and the context below.\n",
        "Use these grades: needs improvement,progressing, meets, exceeds.\n",
        "The rubric for the grades is below. Describe your grading step by step.\n",
        "\n",
        "Rubric:\n",
        "\n",
        "Needs improvement: Unable to apply summarization gathered from the context.\n",
        "Progressing: Requires prompting and support to apply summarization gathered from\n",
        "the context.\n",
        "Meets: Independently able to apply summarization gathered from the context.\n",
        "Exceeds: Independently able to apply summarization gathered from the context.\n",
        "The summary has depth and coverage of the context. It captures the fundamental aspects of\n",
        "the context.\n",
        "\n",
        "\n",
        "Question:\n",
        "\n",
        "{question}\n",
        "\n",
        "Summary:\n",
        "\n",
        "{summary}\n",
        "\n",
        "Context:\n",
        "\n",
        "{context}\n",
        "\"\"\"\n",
        "\n",
        "\n",
        "\n",
        "qc_prompt = PromptTemplate.from_template(qc_template)\n",
        "\n",
        "qc_chain = (qc_prompt\n",
        "             | llm\n",
        "             | StrOutputParser()\n",
        "            )\n",
        "\n",
        "ai_qc = qc_chain.invoke({\"context\"  : short_page,\n",
        "                          \"question\": ai_summary_question,\n",
        "                          \"summary\" : doc[0].metadata['summary']})"
      ],
      "metadata": {
        "id": "6EUPxA7Pw19m"
      },
      "execution_count": null,
      "outputs": []
    },
    {
      "cell_type": "code",
      "source": [
        "#Here we test that the AI has graded correctly the simulated answer.\n",
        "#The test checks that the AI grade is meets or exceeds.\n",
        "grading_test_result = any(el in ai_qc for el in  ['Meets','meets', 'exceeds','Exceeds'] )\n",
        "print('Did AI graded the answer correctly? ', grading_test_result)\n",
        "print('AI grading and explanation: \\n', ai_qc)"
      ],
      "metadata": {
        "colab": {
          "base_uri": "https://localhost:8080/"
        },
        "id": "fkxNQE67yclX",
        "outputId": "5c76d19c-b29d-4b46-aa63-487da30490cd"
      },
      "execution_count": null,
      "outputs": [
        {
          "output_type": "stream",
          "name": "stdout",
          "text": [
            "Did AI graded the answer correctly?  True\n",
            "AI grading and explanation: \n",
            " The summary exceeds expectations. It independently applies the summarization gathered from the context and captures the fundamental aspects of the context. The summary provides a comprehensive overview of the rules, gameplay, personnel, strategy, and tactics of baseball. It includes details about the roles of the players, the structure of the game, the equipment used, and the strategic decisions made during the game. It also provides historical context and information about the popularity and professional organization of the sport. The summary is well-structured and covers all the key points from the context.\n"
          ]
        }
      ]
    }
  ]
}